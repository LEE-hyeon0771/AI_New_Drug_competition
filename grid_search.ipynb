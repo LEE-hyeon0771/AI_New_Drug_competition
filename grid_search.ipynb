{
  "cells": [
    {
      "cell_type": "code",
      "source": [
        "from google.colab import drive\n",
        "drive.mount('/content/drive')"
      ],
      "metadata": {
        "colab": {
          "base_uri": "https://localhost:8080/"
        },
        "id": "rj-s41QALDS8",
        "outputId": "45f62025-3486-4154-a8fd-1d5d9d462fd7"
      },
      "execution_count": null,
      "outputs": [
        {
          "output_type": "stream",
          "name": "stdout",
          "text": [
            "Mounted at /content/drive\n"
          ]
        }
      ]
    },
    {
      "cell_type": "code",
      "source": [
        "%cd ./drive/MyDrive/bioAI"
      ],
      "metadata": {
        "colab": {
          "base_uri": "https://localhost:8080/"
        },
        "id": "hiG77jQNLEvA",
        "outputId": "ef600c0b-eb44-4f5c-8d22-b9d2c0314a18"
      },
      "execution_count": null,
      "outputs": [
        {
          "output_type": "stream",
          "name": "stdout",
          "text": [
            "/content/drive/MyDrive/bioAI\n"
          ]
        }
      ]
    },
    {
      "cell_type": "code",
      "execution_count": null,
      "metadata": {
        "colab": {
          "base_uri": "https://localhost:8080/"
        },
        "id": "lsZhuttrLAW9",
        "outputId": "4da4c776-3c75-4c97-d9d3-40be1fcf1d72"
      },
      "outputs": [
        {
          "output_type": "stream",
          "name": "stdout",
          "text": [
            "Collecting rdkit\n",
            "  Downloading rdkit-2023.3.3-cp310-cp310-manylinux_2_17_x86_64.manylinux2014_x86_64.whl (29.7 MB)\n",
            "\u001b[2K     \u001b[90m━━━━━━━━━━━━━━━━━━━━━━━━━━━━━━━━━━━━━━━━\u001b[0m \u001b[32m29.7/29.7 MB\u001b[0m \u001b[31m59.1 MB/s\u001b[0m eta \u001b[36m0:00:00\u001b[0m\n",
            "\u001b[?25hRequirement already satisfied: numpy in /usr/local/lib/python3.10/dist-packages (from rdkit) (1.23.5)\n",
            "Requirement already satisfied: Pillow in /usr/local/lib/python3.10/dist-packages (from rdkit) (9.4.0)\n",
            "Installing collected packages: rdkit\n",
            "Successfully installed rdkit-2023.3.3\n"
          ]
        }
      ],
      "source": [
        "import random\n",
        "import os\n",
        "\n",
        "import numpy as np\n",
        "import pandas as pd\n",
        "\n",
        "# 변동이 적은 특징을 제거하는데 사용하는 모듈\n",
        "from sklearn.feature_selection import VarianceThreshold\n",
        "\n",
        "# 데이터 셋을 학습, 검증, 테스트 셋으로 분할하는 데 사용하는 모듈\n",
        "from sklearn.model_selection import train_test_split\n",
        "\n",
        "import torch\n",
        "import torch.nn as nn\n",
        "\n",
        "# Pytorch에서 데이터셋 처리 및 배치 생성에 사용하는 모듈\n",
        "from torch.utils.data import Dataset, DataLoader\n",
        "\n",
        "# rdkit : 화학 구조 및 데이터 처리를 위한 라이브러리\n",
        "# DataStructs : 데이터 구조 처리\n",
        "# PandasTools, AllChem : 화학 물질 처리\n",
        "!pip install rdkit\n",
        "from rdkit import DataStructs\n",
        "from rdkit.Chem import PandasTools, AllChem\n",
        "\n",
        "from sklearn.ensemble import RandomForestRegressor\n",
        "\n",
        "from rdkit import Chem\n",
        "# train model\n",
        "import torch.nn.functional as F\n",
        "from torch.utils.data import Dataset, DataLoader, SubsetRandomSampler\n",
        "from sklearn.model_selection import KFold\n",
        "from sklearn.model_selection import GridSearchCV\n",
        "from sklearn.metrics import make_scorer"
      ]
    },
    {
      "cell_type": "code",
      "source": [
        "!pip install mglearn"
      ],
      "metadata": {
        "colab": {
          "base_uri": "https://localhost:8080/"
        },
        "id": "O_0UoEtspevO",
        "outputId": "5cdde156-4368-4b8c-c087-5d038d5b9e76"
      },
      "execution_count": null,
      "outputs": [
        {
          "output_type": "stream",
          "name": "stdout",
          "text": [
            "Collecting mglearn\n",
            "  Downloading mglearn-0.2.0-py2.py3-none-any.whl (581 kB)\n",
            "\u001b[2K     \u001b[90m━━━━━━━━━━━━━━━━━━━━━━━━━━━━━━━━━━━━━━━\u001b[0m \u001b[32m581.4/581.4 kB\u001b[0m \u001b[31m7.2 MB/s\u001b[0m eta \u001b[36m0:00:00\u001b[0m\n",
            "\u001b[?25hRequirement already satisfied: numpy in /usr/local/lib/python3.10/dist-packages (from mglearn) (1.23.5)\n",
            "Requirement already satisfied: matplotlib in /usr/local/lib/python3.10/dist-packages (from mglearn) (3.7.1)\n",
            "Requirement already satisfied: scikit-learn in /usr/local/lib/python3.10/dist-packages (from mglearn) (1.2.2)\n",
            "Requirement already satisfied: pandas in /usr/local/lib/python3.10/dist-packages (from mglearn) (1.5.3)\n",
            "Requirement already satisfied: pillow in /usr/local/lib/python3.10/dist-packages (from mglearn) (9.4.0)\n",
            "Requirement already satisfied: cycler in /usr/local/lib/python3.10/dist-packages (from mglearn) (0.11.0)\n",
            "Requirement already satisfied: imageio in /usr/local/lib/python3.10/dist-packages (from mglearn) (2.31.3)\n",
            "Requirement already satisfied: joblib in /usr/local/lib/python3.10/dist-packages (from mglearn) (1.3.2)\n",
            "Requirement already satisfied: contourpy>=1.0.1 in /usr/local/lib/python3.10/dist-packages (from matplotlib->mglearn) (1.1.0)\n",
            "Requirement already satisfied: fonttools>=4.22.0 in /usr/local/lib/python3.10/dist-packages (from matplotlib->mglearn) (4.42.1)\n",
            "Requirement already satisfied: kiwisolver>=1.0.1 in /usr/local/lib/python3.10/dist-packages (from matplotlib->mglearn) (1.4.5)\n",
            "Requirement already satisfied: packaging>=20.0 in /usr/local/lib/python3.10/dist-packages (from matplotlib->mglearn) (23.1)\n",
            "Requirement already satisfied: pyparsing>=2.3.1 in /usr/local/lib/python3.10/dist-packages (from matplotlib->mglearn) (3.1.1)\n",
            "Requirement already satisfied: python-dateutil>=2.7 in /usr/local/lib/python3.10/dist-packages (from matplotlib->mglearn) (2.8.2)\n",
            "Requirement already satisfied: pytz>=2020.1 in /usr/local/lib/python3.10/dist-packages (from pandas->mglearn) (2023.3.post1)\n",
            "Requirement already satisfied: scipy>=1.3.2 in /usr/local/lib/python3.10/dist-packages (from scikit-learn->mglearn) (1.11.2)\n",
            "Requirement already satisfied: threadpoolctl>=2.0.0 in /usr/local/lib/python3.10/dist-packages (from scikit-learn->mglearn) (3.2.0)\n",
            "Requirement already satisfied: six>=1.5 in /usr/local/lib/python3.10/dist-packages (from python-dateutil>=2.7->matplotlib->mglearn) (1.16.0)\n",
            "Installing collected packages: mglearn\n",
            "Successfully installed mglearn-0.2.0\n"
          ]
        }
      ]
    },
    {
      "cell_type": "code",
      "execution_count": null,
      "metadata": {
        "id": "9Jg-CHZBLAW_"
      },
      "outputs": [],
      "source": [
        "import warnings\n",
        "# 경고 무시\n",
        "warnings.filterwarnings(\"ignore\")"
      ]
    },
    {
      "cell_type": "code",
      "execution_count": null,
      "metadata": {
        "id": "eQJPNYyZLAXB"
      },
      "outputs": [],
      "source": [
        "train_data = pd.read_csv('./data/train.csv')\n",
        "\n",
        "test_data = pd.read_csv('./data/test.csv')"
      ]
    },
    {
      "cell_type": "code",
      "execution_count": null,
      "metadata": {
        "colab": {
          "base_uri": "https://localhost:8080/"
        },
        "id": "0llPdcvELAXB",
        "outputId": "0aee797c-8da7-4c18-f169-4926e29e1ac4"
      },
      "outputs": [
        {
          "output_type": "execute_result",
          "data": {
            "text/plain": [
              "(0, 0)"
            ]
          },
          "metadata": {},
          "execution_count": 7
        }
      ],
      "source": [
        "## 결측치 대처\n",
        "na_index = train_data[train_data['AlogP'].isna()].index\n",
        "na_samples = train_data.loc[na_index]\n",
        "\n",
        "\n",
        "na_index = test_data[test_data['AlogP'].isna()].index\n",
        "na_samples2 = test_data.loc[na_index]\n",
        "\n",
        "train_data_notna = train_data.dropna(subset=['AlogP'])\n",
        "X_train = train_data_notna.drop(['id', 'SMILES', 'MLM', 'HLM', 'AlogP'], axis=1)\n",
        "y_train = train_data_notna['AlogP']\n",
        "\n",
        "# model train\n",
        "rf_model = RandomForestRegressor(random_state=42)\n",
        "rf_model.fit(X_train, y_train)\n",
        "\n",
        "# NA predict\n",
        "train_data_na = train_data[train_data['AlogP'].isna()]\n",
        "X_pred = train_data_na.drop(['id', 'SMILES', 'MLM', 'HLM', 'AlogP'], axis=1)\n",
        "predict_AlogP_train = rf_model.predict(X_pred)\n",
        "\n",
        "# NA replace\n",
        "train_data.loc[train_data_na.index, 'AlogP'] = predict_AlogP_train\n",
        "\n",
        "# test_data NA\n",
        "test_data_na = test_data[test_data['AlogP'].isna()]\n",
        "X_test_pred = test_data_na.drop(['id', 'SMILES', 'AlogP'], axis=1)\n",
        "predict_AlogP_test = rf_model.predict(X_test_pred)\n",
        "test_data.loc[test_data_na.index, 'AlogP'] = predict_AlogP_test\n",
        "\n",
        "\n",
        "na_train_check = train_data['AlogP'].isna().sum()\n",
        "na_test_check = test_data['AlogP'].isna().sum()\n",
        "\n",
        "na_train_check, na_test_check"
      ]
    },
    {
      "cell_type": "code",
      "execution_count": null,
      "metadata": {
        "id": "Fvbu24hHLAXC"
      },
      "outputs": [],
      "source": [
        "def seed_everything(seed):\n",
        "    random.seed(seed)\n",
        "    np.random.seed(seed)\n",
        "    os.environ[\"PYTHONHASHSEED\"] = str(seed)\n",
        "    torch.manual_seed(seed)\n",
        "\n",
        "seed_everything(42) # Seed 고정"
      ]
    },
    {
      "cell_type": "code",
      "execution_count": null,
      "metadata": {
        "id": "EQi0f61KLAXC"
      },
      "outputs": [],
      "source": [
        "# 주어진 mol을 Morgan fingerprint로 변환\n",
        "# Morgan fingerprint : 화학 물질의 구조와 성질을 나타내는 벡터 형식의 표현\n",
        "# GetHashedMorganFingerprint() : 화학물질 mol을 입력받아 해당 물질의 fingerprint로 반환\n",
        "\n",
        "def mol2fp(mol):\n",
        "    fp = AllChem.GetHashedMorganFingerprint(mol, 6, nBits=4096)\n",
        "    ar = np.zeros((1,), dtype=np.int8)\n",
        "    DataStructs.ConvertToNumpyArray(fp, ar)\n",
        "    return ar"
      ]
    },
    {
      "cell_type": "code",
      "execution_count": null,
      "metadata": {
        "id": "-ZNSEIqqLAXC"
      },
      "outputs": [],
      "source": [
        "# SMILES 문자열을 사용하여 Molecule 열을 데이터프레임에 train, test 각각 추가\n",
        "PandasTools.AddMoleculeColumnToFrame(train_data,'SMILES','Molecule')\n",
        "PandasTools.AddMoleculeColumnToFrame(test_data,'SMILES','Molecule')"
      ]
    },
    {
      "cell_type": "code",
      "execution_count": null,
      "metadata": {
        "id": "7fS7K6EALAXD"
      },
      "outputs": [],
      "source": [
        "train_data[\"FPs\"] = train_data.Molecule.apply(mol2fp)\n",
        "test_data[\"FPs\"] = test_data.Molecule.apply(mol2fp)\n",
        "\n",
        "train_df = train_data[['FPs','MLM', 'HLM']]\n",
        "test_df = test_data[['FPs']]"
      ]
    },
    {
      "cell_type": "code",
      "source": [
        "train_data = train_df\n",
        "test_data = test_df"
      ],
      "metadata": {
        "id": "MOJE8xCEwuIw"
      },
      "execution_count": null,
      "outputs": []
    },
    {
      "cell_type": "code",
      "execution_count": null,
      "metadata": {
        "id": "ec4-5AtqLAXD"
      },
      "outputs": [],
      "source": [
        "def replace_values(df, column):\n",
        "    train_df = df[df[column] <= 100]\n",
        "    predict_df = df[df[column] > 100]\n",
        "\n",
        "    X_train = np.array(train_df['FPs'].tolist())\n",
        "    X_predict = np.array(predict_df['FPs'].tolist())\n",
        "\n",
        "    rf = RandomForestRegressor(n_estimators=100, random_state=42)\n",
        "    rf.fit(X_train, train_df[column])\n",
        "\n",
        "    predict_values = rf.predict(X_predict)\n",
        "    df.loc[predict_df.index, column] = predict_values\n",
        "    return df\n",
        "\n",
        "train_data = replace_values(train_data, 'MLM')\n",
        "train_data = replace_values(train_data, 'HLM')"
      ]
    },
    {
      "cell_type": "code",
      "execution_count": null,
      "metadata": {
        "id": "WfE6VIkILAXD"
      },
      "outputs": [],
      "source": [
        "class CustomDataset(Dataset):\n",
        "    def __init__(self, df, target, transform, is_test=False):\n",
        "        self.df = df\n",
        "        self.target = target # HLM or MLM\n",
        "        self.is_test = is_test # train,valid / test\n",
        "\n",
        "        self.feature_select = transform\n",
        "        if not self.is_test:\n",
        "            self.fp = self.feature_select.fit_transform(np.stack(df['FPs']))\n",
        "        else: # valid or test\n",
        "            self.fp = self.feature_select.transform(np.stack(df['FPs']))\n",
        "\n",
        "    def __getitem__(self, index):\n",
        "        fp = self.fp[index]\n",
        "        if not self.is_test: # test가 아닌 경우(label 존재)\n",
        "            label = self.df[self.target][index]\n",
        "            return torch.tensor(fp).float(), torch.tensor(label).float().unsqueeze(dim=-1) # feature, label\n",
        "\n",
        "        else: # test인 경우\n",
        "            return torch.tensor(fp).float() # feature\n",
        "\n",
        "    def __len__(self):\n",
        "        return len(self.df)"
      ]
    },
    {
      "cell_type": "code",
      "execution_count": null,
      "metadata": {
        "colab": {
          "base_uri": "https://localhost:8080/"
        },
        "id": "Udv0daDlLAXE",
        "outputId": "6e1e3b17-f590-4085-c624-66d3cc63b782"
      },
      "outputs": [
        {
          "output_type": "execute_result",
          "data": {
            "text/plain": [
              "251"
            ]
          },
          "metadata": {},
          "execution_count": 14
        }
      ],
      "source": [
        "transform = VarianceThreshold(threshold=0.05)\n",
        "\n",
        "train_MLM = CustomDataset(df=train_df, target='MLM', transform=transform, is_test=False)\n",
        "#train_HLM = CustomDataset(df=train, target='HLM', transform=transform, is_test=False)\n",
        "\n",
        "input_size = train_MLM.fp.shape[1]\n",
        "input_size"
      ]
    },
    {
      "cell_type": "code",
      "execution_count": null,
      "metadata": {
        "id": "eOmNMyz7LAXE"
      },
      "outputs": [],
      "source": [
        "# Hyperparameter\n",
        "CFG = {'BATCH_SIZE': 256,\n",
        "       'EPOCHS': 1,\n",
        "       'INPUT_SIZE': 4096,\n",
        "       'HIDDEN_SIZE': 64,\n",
        "       'OUTPUT_SIZE': 1,\n",
        "       'DROPOUT_RATE': 0.8,\n",
        "       'LEARNING_RATE': 0.001}"
      ]
    },
    {
      "cell_type": "code",
      "execution_count": 37,
      "metadata": {
        "id": "Z1haNJOELAXF"
      },
      "outputs": [],
      "source": [
        "class Net(nn.Module):\n",
        "    def __init__(self, input_size, hidden_size, dropout_rate, out_size):\n",
        "        super(Net, self).__init__()\n",
        "\n",
        "        # fc 레이어 3개와 출력 레이어\n",
        "        self.fc1 = nn.Linear(input_size, hidden_size)\n",
        "        self.fc2 = nn.Linear(hidden_size, hidden_size)\n",
        "        self.fc3 = nn.Linear(hidden_size, hidden_size)\n",
        "        self.fc_out = nn.Linear(hidden_size, out_size)\n",
        "\n",
        "        # 정규화\n",
        "        self.ln1 = nn.LayerNorm(hidden_size)\n",
        "        self.ln2 = nn.LayerNorm(hidden_size)\n",
        "        self.ln3 = nn.LayerNorm(hidden_size)\n",
        "\n",
        "        # 활성화 함수\n",
        "        self.activation = nn.LeakyReLU()\n",
        "\n",
        "        # Dropout\n",
        "        self.dropout = nn.Dropout(dropout_rate)\n",
        "\n",
        "        # initialize\n",
        "        self.input_size = input_size\n",
        "        self.hidden_size = hidden_size\n",
        "        self.dropout_rate = dropout_rate\n",
        "        self.out_size = out_size\n",
        "        self.criterion = nn.MSELoss()\n",
        "        self.optimizer = torch.optim.Adam(self.parameters(), lr=CFG['LEARNING_RATE'])\n",
        "\n",
        "    def forward(self, x):\n",
        "        out = self.fc1(x)\n",
        "        out = self.ln1(out)\n",
        "        out = self.activation(out)\n",
        "        out = self.dropout(out)\n",
        "\n",
        "        out = self.fc2(out)\n",
        "        out = self.ln2(out)\n",
        "        out = self.activation(out)\n",
        "        out = self.dropout(out)\n",
        "\n",
        "        out = self.fc3(out)\n",
        "        out = self.ln3(out)\n",
        "        out = self.activation(out)\n",
        "        out = self.dropout(out)\n",
        "\n",
        "        out = self.fc_out(out)\n",
        "        return out\n",
        "\n",
        "    def fit(self, X, y, epochs=10):\n",
        "        # 데이터를 Tensor로 변환할 것\n",
        "        model = Net(self.input_size, self.hidden_size, self.dropout_rate, self.out_size)\n",
        "        criterion = self.criterion\n",
        "        optimizer = self.optimizer\n",
        "\n",
        "        model.train()\n",
        "\n",
        "        for epoch in range(epochs):\n",
        "            running_loss = 0\n",
        "            for inputs, targets in zip(X, y):\n",
        "                optimizer.zero_grad()\n",
        "\n",
        "                output = model(inputs)\n",
        "                loss = criterion(output, targets)\n",
        "                loss.backward()\n",
        "                optimizer.step()\n",
        "\n",
        "                running_loss += loss.item()\n",
        "\n",
        "                model.train()\n",
        "        return self\n",
        "\n",
        "    def predict(self, X):\n",
        "        # 입력 데이터를 Tensor로 변환\n",
        "        X_tensor = torch.tensor(X.values, dtype=torch.float32)\n",
        "\n",
        "        # 모델로 예측 수행\n",
        "        with torch.no_grad():\n",
        "            self.model.eval()\n",
        "            predictions = self.model(X_tensor)\n",
        "\n",
        "        return predictions.numpy()  # 예측 결과를 NumPy 배열로 반환"
      ]
    },
    {
      "cell_type": "code",
      "execution_count": 38,
      "metadata": {
        "id": "jU-ml9tQLAXF"
      },
      "outputs": [],
      "source": [
        "model_MLM = Net(CFG['INPUT_SIZE'],CFG['HIDDEN_SIZE'],CFG['DROPOUT_RATE'],CFG['OUTPUT_SIZE'])\n",
        "model_HLM = Net(CFG['INPUT_SIZE'],CFG['HIDDEN_SIZE'],CFG['DROPOUT_RATE'],CFG['OUTPUT_SIZE'])\n",
        "\n",
        "criterion = nn.MSELoss()\n",
        "optimizer_MLM = torch.optim.Adam(model_MLM.parameters(), lr=CFG['LEARNING_RATE'])\n",
        "optimizer_HLM = torch.optim.Adam(model_HLM.parameters(), lr=CFG['LEARNING_RATE'])"
      ]
    },
    {
      "cell_type": "code",
      "execution_count": 39,
      "metadata": {
        "id": "Dyy8rVmHLAXF"
      },
      "outputs": [],
      "source": [
        "X_train = train_df['FPs']\n",
        "\n",
        "y_train_MLM = train_df['MLM']\n",
        "y_train_HLM = train_df['HLM']"
      ]
    },
    {
      "cell_type": "code",
      "execution_count": 40,
      "metadata": {
        "id": "3J52tpwmLAXG"
      },
      "outputs": [],
      "source": [
        "X_train_tensor = torch.tensor(X_train, dtype=torch.float32)\n",
        "y_train_MLM = torch.tensor(y_train_MLM, dtype=torch.float32)\n",
        "y_train_HLM = torch.tensor(y_train_HLM, dtype=torch.float32)"
      ]
    },
    {
      "cell_type": "code",
      "execution_count": 41,
      "metadata": {
        "colab": {
          "base_uri": "https://localhost:8080/"
        },
        "id": "D4YhVBvsLAXG",
        "outputId": "77530cf7-e6da-42a9-bb57-e5cde41e23e4"
      },
      "outputs": [
        {
          "output_type": "execute_result",
          "data": {
            "text/plain": [
              "tensor([[0., 0., 0.,  ..., 0., 0., 0.],\n",
              "        [0., 0., 0.,  ..., 0., 0., 0.],\n",
              "        [0., 0., 0.,  ..., 0., 0., 0.],\n",
              "        ...,\n",
              "        [1., 0., 0.,  ..., 0., 0., 0.],\n",
              "        [0., 0., 0.,  ..., 0., 0., 0.],\n",
              "        [0., 0., 0.,  ..., 0., 0., 0.]])"
            ]
          },
          "metadata": {},
          "execution_count": 41
        }
      ],
      "source": [
        "X_train_tensor"
      ]
    },
    {
      "cell_type": "code",
      "execution_count": 42,
      "metadata": {
        "id": "Ycig6nYWLAXG"
      },
      "outputs": [],
      "source": [
        "#print(\"Training Start: MLM\")\n",
        "#model_MLM.fit(X_train_tensor, y_train_MLM)"
      ]
    },
    {
      "cell_type": "code",
      "execution_count": 43,
      "metadata": {
        "id": "SmCvz96KLAXG"
      },
      "outputs": [],
      "source": [
        "from sklearn.base import BaseEstimator, RegressorMixin\n",
        "from sklearn.model_selection import GridSearchCV\n",
        "from tqdm import tqdm\n",
        "\n",
        "# Create a wrapper class for your PyTorch model\n",
        "class PyTorchRegressor(BaseEstimator, RegressorMixin):\n",
        "    def __init__(self, input_size, hidden_size, dropout_rate, out_size, num_epochs, batch_size=64, learning_rate = 0.0001):\n",
        "        self.input_size = input_size\n",
        "        self.hidden_size = hidden_size\n",
        "        self.out_size = out_size\n",
        "        self.dropout_rate = dropout_rate\n",
        "\n",
        "        self.model = Net(input_size, hidden_size, dropout_rate, out_size)\n",
        "        self.learning_rate = learning_rate\n",
        "        self.optimizer = torch.optim.Adam(self.model.parameters(), lr=self.learning_rate)\n",
        "        self.criterion = nn.MSELoss()\n",
        "        self.num_epochs = num_epochs\n",
        "        self.batch_size = batch_size\n",
        "\n",
        "    def fit(self, X, y):\n",
        "        # Training loop here\n",
        "        for epoch in tqdm(range(self.num_epochs)):\n",
        "            # Forward pass, loss calculation, backward pass, optimization\n",
        "            # Example:\n",
        "            outputs = self.model(X)\n",
        "            loss = self.criterion(outputs, y)\n",
        "            self.optimizer.zero_grad()\n",
        "            loss.backward()\n",
        "            self.optimizer.step()\n",
        "\n",
        "    def predict(self, X):\n",
        "        # Convert X to PyTorch tensor if not already\n",
        "        X = torch.tensor(X, dtype=torch.float32)\n",
        "\n",
        "        # Make predictions\n",
        "        with torch.no_grad():\n",
        "            predictions = self.model(X).numpy()\n",
        "        return predictions\n",
        "\n"
      ]
    },
    {
      "cell_type": "code",
      "execution_count": 44,
      "metadata": {
        "id": "BSBodTKaLAXG"
      },
      "outputs": [],
      "source": [
        "# Create an instance of the wrapper class\n",
        "# ['batch_size', 'dropout_rate', 'hidden_size', 'input_size', 'num_epochs', 'out_size']\n",
        "model_wrapper = PyTorchRegressor(input_size = CFG['INPUT_SIZE'], hidden_size = CFG['HIDDEN_SIZE'], num_epochs = CFG['EPOCHS'],\n",
        "                                 dropout_rate = CFG['DROPOUT_RATE'], out_size = CFG['OUTPUT_SIZE'],\n",
        "                                 batch_size = CFG['BATCH_SIZE'], learning_rate=CFG['LEARNING_RATE'])"
      ]
    },
    {
      "cell_type": "code",
      "execution_count": 45,
      "metadata": {
        "id": "LD4xZFMrLAXH"
      },
      "outputs": [],
      "source": [
        "\n",
        "# Define the parameter grid for hyperparameter tuning\n",
        "param_grid = {\n",
        "    'num_epochs': [900],\n",
        "    'input_size': [4096],\n",
        "    'hidden_size': [256],\n",
        "    'dropout_rate': [0.8],\n",
        "    'learning_rate': [0.001],\n",
        "    'batch_size': [64]\n",
        "    # Add other hyperparameters here\n",
        "}"
      ]
    },
    {
      "cell_type": "code",
      "execution_count": null,
      "metadata": {
        "id": "crkKrCOBLAXH"
      },
      "outputs": [],
      "source": [
        "# Create GridSearchCV instance\n",
        "grid_search = GridSearchCV(estimator=model_wrapper, param_grid=param_grid,\n",
        "                           scoring='neg_mean_squared_error', cv=5, error_score='raise')\n",
        "\n",
        "# Fit the grid search to your data\n",
        "grid_search.fit(X_train_tensor, y_train_MLM)"
      ]
    },
    {
      "cell_type": "code",
      "source": [
        "import mglearn\n",
        "## 교차 검증 평균 점수 히트맵\n",
        "def heat_grid(scores, xlabel, ylabel):\n",
        "    mglearn.tools.heatmap(scores,\n",
        "                        xlabel = xlabel, xticklabels = param_grid[xlabel],\n",
        "                        ylabel = ylabel, yticklabels = param_grid[ylabel], cmap = \"viridis\")"
      ],
      "metadata": {
        "id": "XkRuBDiHogVr"
      },
      "execution_count": null,
      "outputs": []
    },
    {
      "cell_type": "code",
      "source": [
        "results_epoch_hidden_size = pd.DataFrame(grid_search.cv_results_)\n",
        "scores_epoch_hidden_size = np.array(results_epoch_hidden_size.mean_test_score).reshape(4, 5)\n",
        "## epochs and hidden_size\n",
        "heat_grid(scores_epoch_hidden_size, 'num_epochs', 'hidden_size')\n",
        "\n",
        "# hidden_size [256, 512, 1024, 2048]는 상관없다? => 256으로 하자\n"
      ],
      "metadata": {
        "colab": {
          "base_uri": "https://localhost:8080/",
          "height": 450
        },
        "id": "hf9ZbiLtnR2w",
        "outputId": "0daf3864-7574-4dc2-a536-9224eeb1a293"
      },
      "execution_count": null,
      "outputs": [
        {
          "output_type": "display_data",
          "data": {
            "text/plain": [
              "<Figure size 640x480 with 1 Axes>"
            ],
            "image/png": "[encoded data removed]"
          },
          "metadata": {}
        }
      ]
    },
    {
      "cell_type": "code",
      "source": [
        "results_epoch_hidden_size = pd.DataFrame(grid_search.cv_results_)\n",
        "scores_epoch_hidden_size = np.array(results_epoch_hidden_size.mean_test_score).reshape(1, 3)\n",
        "## epochs and hidden_size\n",
        "heat_grid(scores_epoch_hidden_size, 'num_epochs', 'hidden_size')\n",
        "\n",
        "## epoch이 1000일때 성능이 가장 좋다?\n",
        "\"\"\"\n",
        "파라미터 설정\n",
        "param_grid = {\n",
        "    'num_epochs': [700, 1000, 1500],\n",
        "    'input_size': [4096],\n",
        "    'hidden_size': [256],\n",
        "    'dropout_rate': [0.2],   #[0.2, 0.5, 0.8],\n",
        "    'learning_rate': [0.1],  #[0.1, 0.01, 0.001],\n",
        "    'batch_size': [64],  #[64, 128, 256]\n",
        "}\n",
        "\n",
        "\"\"\""
      ],
      "metadata": {
        "colab": {
          "base_uri": "https://localhost:8080/",
          "height": 300
        },
        "id": "Q74jkH0Kw6xW",
        "outputId": "a3cd216c-9304-471b-a4ff-5cf8dd7a9fc5"
      },
      "execution_count": null,
      "outputs": [
        {
          "output_type": "execute_result",
          "data": {
            "text/plain": [
              "\" \\n파라미터 설정\\nparam_grid = {\\n    'num_epochs': [700, 1000, 1500],\\n    'input_size': [4096],\\n    'hidden_size': [256],\\n    'dropout_rate': [0.2],   #[0.2, 0.5, 0.8],\\n    'learning_rate': [0.1],  #[0.1, 0.01, 0.001],\\n    'batch_size': [64],  #[64, 128, 256]    \\n}\\n\\n\""
            ],
            "application/vnd.google.colaboratory.intrinsic+json": {
              "type": "string"
            }
          },
          "metadata": {},
          "execution_count": 66
        },
        {
          "output_type": "display_data",
          "data": {
            "text/plain": [
              "<Figure size 640x480 with 1 Axes>"
            ],
            "image/png": "[encoded data removed]"
          },
          "metadata": {}
        }
      ]
    },
    {
      "cell_type": "code",
      "source": [
        "results_drop_lr = pd.DataFrame(grid_search.cv_results_)\n",
        "scores_drop_lr = np.array(results_drop_lr.mean_test_score).reshape(3, 3)\n",
        "## dropout_rate and learning_rate\n",
        "heat_grid(scores_drop_lr, 'dropout_rate', 'learning_rate')\n",
        "\n",
        "## dropout이 0.8일때 성능이 괜찮다. lr_rate는 다시 확인해보자.\n",
        "\"\"\"\n",
        "param_grid = {\n",
        "    'num_epochs': [1000], # fix?\n",
        "    'input_size': [4096], # fix\n",
        "    'hidden_size': [256], # fix?\n",
        "    'dropout_rate': [0.2, 0.5, 0.8],   #[0.2, 0.5, 0.8],\n",
        "    'learning_rate': [0.1, 0.01, 0.001],  #[0.1, 0.01, 0.001],\n",
        "    'batch_size': [64],  #[64, 128, 256]\n",
        "}\n",
        "\"\"\""
      ],
      "metadata": {
        "colab": {
          "base_uri": "https://localhost:8080/",
          "height": 505
        },
        "id": "Da7BkrL70x2b",
        "outputId": "f91abe50-bfbd-427d-c613-aaf09a26994b"
      },
      "execution_count": null,
      "outputs": [
        {
          "output_type": "execute_result",
          "data": {
            "text/plain": [
              "\"\\nparam_grid = {\\n    'num_epochs': [1000], # fix?\\n    'input_size': [4096], # fix\\n    'hidden_size': [256], # fix?\\n    'dropout_rate': [0.2, 0.5, 0.8],   #[0.2, 0.5, 0.8],\\n    'learning_rate': [0.1, 0.01, 0.001],  #[0.1, 0.01, 0.001],\\n    'batch_size': [64],  #[64, 128, 256]    \\n}\\n\""
            ],
            "application/vnd.google.colaboratory.intrinsic+json": {
              "type": "string"
            }
          },
          "metadata": {},
          "execution_count": 70
        },
        {
          "output_type": "display_data",
          "data": {
            "text/plain": [
              "<Figure size 640x480 with 1 Axes>"
            ],
            "image/png": "[encoded data removed]"
          },
          "metadata": {}
        }
      ]
    },
    {
      "cell_type": "code",
      "source": [
        "results_lr_batch = pd.DataFrame(grid_search.cv_results_)\n",
        "scores_lr_batch  = np.array(results_lr_batch .mean_test_score).reshape(3, 3)\n",
        "## dropout_rate and learning_rate\n",
        "heat_grid(scores_lr_batch , 'learning_rate', 'batch_size')\n",
        "\n",
        "## batch_size가 64일때가 성능이 괜찮네\n",
        "\"\"\"\n",
        "param_grid = {\n",
        "    'num_epochs': [1000], # fix?\n",
        "    'input_size': [4096], # fix\n",
        "    'hidden_size': [256], # fix?\n",
        "    'dropout_rate': [0.8], # fix?\n",
        "    'learning_rate': [0.1, 0.01, 0.001],  #[0.1, 0.01, 0.001],\n",
        "    'batch_size': [64, 128, 256]\n",
        "}\n",
        "\"\"\"\n"
      ],
      "metadata": {
        "colab": {
          "base_uri": "https://localhost:8080/",
          "height": 505
        },
        "id": "t8v0rK9p7Pd8",
        "outputId": "bea16401-8833-4acb-9110-ffc048374bd6"
      },
      "execution_count": null,
      "outputs": [
        {
          "output_type": "execute_result",
          "data": {
            "text/plain": [
              "\"\\nparam_grid = {\\n    'num_epochs': [1000], # fix?\\n    'input_size': [4096], # fix\\n    'hidden_size': [256], # fix?\\n    'dropout_rate': [0.8], # fix?\\n    'learning_rate': [0.1, 0.01, 0.001],  #[0.1, 0.01, 0.001],\\n    'batch_size': [64, 128, 256]    \\n}\\n\""
            ],
            "application/vnd.google.colaboratory.intrinsic+json": {
              "type": "string"
            }
          },
          "metadata": {},
          "execution_count": 73
        },
        {
          "output_type": "display_data",
          "data": {
            "text/plain": [
              "<Figure size 640x480 with 1 Axes>"
            ],
            "image/png": "[encoded data removed]"
          },
          "metadata": {}
        }
      ]
    },
    {
      "cell_type": "code",
      "source": [
        "results_epochs = pd.DataFrame(grid_search.cv_results_)\n",
        "scores_epochs  = np.array(results_epochs .mean_test_score).reshape(3, 3)\n",
        "# dropout_rate and learning_rate\n",
        "heat_grid(scores_epochs , 'batch_size' , 'num_epochs')\n",
        "\n",
        "## epochs 범위 줄이기\n",
        "\"\"\"\n",
        "param_grid = {\n",
        "    'num_epochs': [900, 1000, 1100], # fix?\n",
        "    'input_size': [4096], # fix\n",
        "    'out_size': [1],\n",
        "    'hidden_size': [256], # fix?\n",
        "    'dropout_rate': [0.8], # fix?\n",
        "    'learning_rate': [0.001],  # fix?\n",
        "    'batch_size': [64]\n",
        "}\n",
        "\"\"\""
      ],
      "metadata": {
        "colab": {
          "base_uri": "https://localhost:8080/",
          "height": 504
        },
        "id": "bVtTIhCQDpwe",
        "outputId": "246b2cc6-5beb-4966-fa50-81606a342cad"
      },
      "execution_count": null,
      "outputs": [
        {
          "output_type": "execute_result",
          "data": {
            "text/plain": [
              "\"\\nparam_grid = {\\n    'num_epochs': [900, 1000, 1100], # fix?\\n    'input_size': [4096], # fix\\n    'out_size': [1],\\n    'hidden_size': [256], # fix?\\n    'dropout_rate': [0.8], # fix?\\n    'learning_rate': [0.001],  # fix?\\n    'batch_size': [64]    \\n}\\n\""
            ],
            "application/vnd.google.colaboratory.intrinsic+json": {
              "type": "string"
            }
          },
          "metadata": {},
          "execution_count": 88
        },
        {
          "output_type": "display_data",
          "data": {
            "text/plain": [
              "<Figure size 640x480 with 1 Axes>"
            ],
            "image/png": "[encoded data removed]"
          },
          "metadata": {}
        }
      ]
    },
    {
      "cell_type": "code",
      "source": [
        "results_epochs_dropout = pd.DataFrame(grid_search.cv_results_)\n",
        "scores_epochs_dropout  = np.array(results_epochs_dropout .mean_test_score).reshape(4, 4)\n",
        "# dropout_rate and learning_rate\n",
        "heat_grid(scores_epochs_dropout, 'num_epochs' , 'dropout_rate')\n",
        "\n",
        "## epochs와 dropout\n",
        "\"\"\"\n",
        "param_grid = {\n",
        "    'num_epochs': [ 900, 1000, 1100, 1200], # fix?\n",
        "    'input_size': [4096], # fix\n",
        "    'out_size': [1],\n",
        "    'hidden_size': [256], # fix?\n",
        "    'dropout_rate': [0.0, 0.2, 0.5, 0.8], # fix?\n",
        "    'learning_rate': [0.001],  # fix?\n",
        "    'batch_size': [64]\n",
        "}\n",
        "\"\"\""
      ],
      "metadata": {
        "colab": {
          "base_uri": "https://localhost:8080/",
          "height": 505
        },
        "id": "MdHAMBfBkoMH",
        "outputId": "f1986ec0-faa6-4b6a-c2c6-7a6d2c105f3f"
      },
      "execution_count": null,
      "outputs": [
        {
          "output_type": "execute_result",
          "data": {
            "text/plain": [
              "\"\\nparam_grid = {\\n    'num_epochs': [ 900, 1000, 1100, 1200], # fix?\\n    'input_size': [4096], # fix\\n    'out_size': [1],\\n    'hidden_size': [256], # fix?\\n    'dropout_rate': [0.0, 0.2, 0.5, 0.8], # fix?\\n    'learning_rate': [0.001],  # fix?\\n    'batch_size': [64]    \\n}\\n\""
            ],
            "application/vnd.google.colaboratory.intrinsic+json": {
              "type": "string"
            }
          },
          "metadata": {},
          "execution_count": 33
        },
        {
          "output_type": "display_data",
          "data": {
            "text/plain": [
              "<Figure size 640x480 with 1 Axes>"
            ],
            "image/png": "[encoded data removed]"
          },
          "metadata": {}
        }
      ]
    },
    {
      "cell_type": "code",
      "execution_count": null,
      "metadata": {
        "colab": {
          "base_uri": "https://localhost:8080/"
        },
        "id": "f4TcV7bELAXH",
        "outputId": "1bbe9582-2ae1-4cf8-ab54-b32c2a5886ee"
      },
      "outputs": [
        {
          "output_type": "execute_result",
          "data": {
            "text/plain": [
              "{'batch_size': 64,\n",
              " 'dropout_rate': 0.0,\n",
              " 'hidden_size': 256,\n",
              " 'input_size': 4096,\n",
              " 'learning_rate': 0.001,\n",
              " 'num_epochs': 900,\n",
              " 'out_size': 1}"
            ]
          },
          "metadata": {},
          "execution_count": 31
        }
      ],
      "source": [
        "# Get the best hyperparameters\n",
        "best_params = grid_search.best_params_\n",
        "best_params\n"
      ]
    },
    {
      "cell_type": "code",
      "source": [
        "best_params = {'batch_size': 256,\n",
        "                'dropout_rate': 0.0,\n",
        "                'hidden_size': 256,\n",
        "                'input_size': 4096,\n",
        "                'learning_rate': 0.1,\n",
        "                'out_size': 1,\n",
        "                'num_epochs': 900}"
      ],
      "metadata": {
        "id": "7LobRTTdyg7y"
      },
      "execution_count": null,
      "outputs": []
    },
    {
      "cell_type": "code",
      "execution_count": null,
      "metadata": {
        "colab": {
          "base_uri": "https://localhost:8080/",
          "height": 128
        },
        "id": "DpZusSPCLAXH",
        "outputId": "7b6dbdfa-444e-42ff-dc98-ef79136c66a3"
      },
      "outputs": [
        {
          "output_type": "stream",
          "name": "stderr",
          "text": [
            "100%|██████████| 900/900 [08:15<00:00,  1.82it/s]\n"
          ]
        },
        {
          "output_type": "execute_result",
          "data": {
            "text/plain": [
              "PyTorchRegressor(batch_size=256, dropout_rate=0.0, hidden_size=256,\n",
              "                 input_size=4096, learning_rate=0.1, num_epochs=900,\n",
              "                 out_size=1)"
            ],
            "text/html": [
              "<style>#sk-container-id-5 {color: black;background-color: white;}#sk-container-id-5 pre{padding: 0;}#sk-container-id-5 div.sk-toggleable {background-color: white;}#sk-container-id-5 label.sk-toggleable__label {cursor: pointer;display: block;width: 100%;margin-bottom: 0;padding: 0.3em;box-sizing: border-box;text-align: center;}#sk-container-id-5 label.sk-toggleable__label-arrow:before {content: \"▸\";float: left;margin-right: 0.25em;color: #696969;}#sk-container-id-5 label.sk-toggleable__label-arrow:hover:before {color: black;}#sk-container-id-5 div.sk-estimator:hover label.sk-toggleable__label-arrow:before {color: black;}#sk-container-id-5 div.sk-toggleable__content {max-height: 0;max-width: 0;overflow: hidden;text-align: left;background-color: #f0f8ff;}#sk-container-id-5 div.sk-toggleable__content pre {margin: 0.2em;color: black;border-radius: 0.25em;background-color: #f0f8ff;}#sk-container-id-5 input.sk-toggleable__control:checked~div.sk-toggleable__content {max-height: 200px;max-width: 100%;overflow: auto;}#sk-container-id-5 input.sk-toggleable__control:checked~label.sk-toggleable__label-arrow:before {content: \"▾\";}#sk-container-id-5 div.sk-estimator input.sk-toggleable__control:checked~label.sk-toggleable__label {background-color: #d4ebff;}#sk-container-id-5 div.sk-label input.sk-toggleable__control:checked~label.sk-toggleable__label {background-color: #d4ebff;}#sk-container-id-5 input.sk-hidden--visually {border: 0;clip: rect(1px 1px 1px 1px);clip: rect(1px, 1px, 1px, 1px);height: 1px;margin: -1px;overflow: hidden;padding: 0;position: absolute;width: 1px;}#sk-container-id-5 div.sk-estimator {font-family: monospace;background-color: #f0f8ff;border: 1px dotted black;border-radius: 0.25em;box-sizing: border-box;margin-bottom: 0.5em;}#sk-container-id-5 div.sk-estimator:hover {background-color: #d4ebff;}#sk-container-id-5 div.sk-parallel-item::after {content: \"\";width: 100%;border-bottom: 1px solid gray;flex-grow: 1;}#sk-container-id-5 div.sk-label:hover label.sk-toggleable__label {background-color: #d4ebff;}#sk-container-id-5 div.sk-serial::before {content: \"\";position: absolute;border-left: 1px solid gray;box-sizing: border-box;top: 0;bottom: 0;left: 50%;z-index: 0;}#sk-container-id-5 div.sk-serial {display: flex;flex-direction: column;align-items: center;background-color: white;padding-right: 0.2em;padding-left: 0.2em;position: relative;}#sk-container-id-5 div.sk-item {position: relative;z-index: 1;}#sk-container-id-5 div.sk-parallel {display: flex;align-items: stretch;justify-content: center;background-color: white;position: relative;}#sk-container-id-5 div.sk-item::before, #sk-container-id-5 div.sk-parallel-item::before {content: \"\";position: absolute;border-left: 1px solid gray;box-sizing: border-box;top: 0;bottom: 0;left: 50%;z-index: -1;}#sk-container-id-5 div.sk-parallel-item {display: flex;flex-direction: column;z-index: 1;position: relative;background-color: white;}#sk-container-id-5 div.sk-parallel-item:first-child::after {align-self: flex-end;width: 50%;}#sk-container-id-5 div.sk-parallel-item:last-child::after {align-self: flex-start;width: 50%;}#sk-container-id-5 div.sk-parallel-item:only-child::after {width: 0;}#sk-container-id-5 div.sk-dashed-wrapped {border: 1px dashed gray;margin: 0 0.4em 0.5em 0.4em;box-sizing: border-box;padding-bottom: 0.4em;background-color: white;}#sk-container-id-5 div.sk-label label {font-family: monospace;font-weight: bold;display: inline-block;line-height: 1.2em;}#sk-container-id-5 div.sk-label-container {text-align: center;}#sk-container-id-5 div.sk-container {/* jupyter's `normalize.less` sets `[hidden] { display: none; }` but bootstrap.min.css set `[hidden] { display: none !important; }` so we also need the `!important` here to be able to override the default hidden behavior on the sphinx rendered scikit-learn.org. See: https://github.com/scikit-learn/scikit-learn/issues/21755 */display: inline-block !important;position: relative;}#sk-container-id-5 div.sk-text-repr-fallback {display: none;}</style><div id=\"sk-container-id-5\" class=\"sk-top-container\"><div class=\"sk-text-repr-fallback\"><pre>PyTorchRegressor(batch_size=256, dropout_rate=0.0, hidden_size=256,\n",
              "                 input_size=4096, learning_rate=0.1, num_epochs=900,\n",
              "                 out_size=1)</pre><b>In a Jupyter environment, please rerun this cell to show the HTML representation or trust the notebook. <br />On GitHub, the HTML representation is unable to render, please try loading this page with nbviewer.org.</b></div><div class=\"sk-container\" hidden><div class=\"sk-item\"><div class=\"sk-estimator sk-toggleable\"><input class=\"sk-toggleable__control sk-hidden--visually\" id=\"sk-estimator-id-5\" type=\"checkbox\" checked><label for=\"sk-estimator-id-5\" class=\"sk-toggleable__label sk-toggleable__label-arrow\">PyTorchRegressor</label><div class=\"sk-toggleable__content\"><pre>PyTorchRegressor(batch_size=256, dropout_rate=0.0, hidden_size=256,\n",
              "                 input_size=4096, learning_rate=0.1, num_epochs=900,\n",
              "                 out_size=1)</pre></div></div></div></div></div>"
            ]
          },
          "metadata": {},
          "execution_count": 49
        }
      ],
      "source": [
        "# Train the final model on the entire training data using the best hyperparameters\n",
        "final_model_MLM = PyTorchRegressor(**best_params)\n",
        "final_model_MLM.fit(X_train_tensor, y_train_MLM)"
      ]
    },
    {
      "cell_type": "code",
      "source": [
        "# Train the final model on the entire training data using the best hyperparameters\n",
        "final_model_HLM = PyTorchRegressor(**best_params)\n",
        "final_model_HLM.fit(X_train_tensor, y_train_HLM)"
      ],
      "metadata": {
        "colab": {
          "base_uri": "https://localhost:8080/",
          "height": 128
        },
        "id": "lSykKRvKtHaJ",
        "outputId": "7c01e243-9549-4e5f-cbff-480d4dac6cc1"
      },
      "execution_count": null,
      "outputs": [
        {
          "output_type": "stream",
          "name": "stderr",
          "text": [
            "100%|██████████| 900/900 [07:59<00:00,  1.88it/s]\n"
          ]
        },
        {
          "output_type": "execute_result",
          "data": {
            "text/plain": [
              "PyTorchRegressor(batch_size=256, dropout_rate=0.0, hidden_size=256,\n",
              "                 input_size=4096, learning_rate=0.1, num_epochs=900,\n",
              "                 out_size=1)"
            ],
            "text/html": [
              "<style>#sk-container-id-6 {color: black;background-color: white;}#sk-container-id-6 pre{padding: 0;}#sk-container-id-6 div.sk-toggleable {background-color: white;}#sk-container-id-6 label.sk-toggleable__label {cursor: pointer;display: block;width: 100%;margin-bottom: 0;padding: 0.3em;box-sizing: border-box;text-align: center;}#sk-container-id-6 label.sk-toggleable__label-arrow:before {content: \"▸\";float: left;margin-right: 0.25em;color: #696969;}#sk-container-id-6 label.sk-toggleable__label-arrow:hover:before {color: black;}#sk-container-id-6 div.sk-estimator:hover label.sk-toggleable__label-arrow:before {color: black;}#sk-container-id-6 div.sk-toggleable__content {max-height: 0;max-width: 0;overflow: hidden;text-align: left;background-color: #f0f8ff;}#sk-container-id-6 div.sk-toggleable__content pre {margin: 0.2em;color: black;border-radius: 0.25em;background-color: #f0f8ff;}#sk-container-id-6 input.sk-toggleable__control:checked~div.sk-toggleable__content {max-height: 200px;max-width: 100%;overflow: auto;}#sk-container-id-6 input.sk-toggleable__control:checked~label.sk-toggleable__label-arrow:before {content: \"▾\";}#sk-container-id-6 div.sk-estimator input.sk-toggleable__control:checked~label.sk-toggleable__label {background-color: #d4ebff;}#sk-container-id-6 div.sk-label input.sk-toggleable__control:checked~label.sk-toggleable__label {background-color: #d4ebff;}#sk-container-id-6 input.sk-hidden--visually {border: 0;clip: rect(1px 1px 1px 1px);clip: rect(1px, 1px, 1px, 1px);height: 1px;margin: -1px;overflow: hidden;padding: 0;position: absolute;width: 1px;}#sk-container-id-6 div.sk-estimator {font-family: monospace;background-color: #f0f8ff;border: 1px dotted black;border-radius: 0.25em;box-sizing: border-box;margin-bottom: 0.5em;}#sk-container-id-6 div.sk-estimator:hover {background-color: #d4ebff;}#sk-container-id-6 div.sk-parallel-item::after {content: \"\";width: 100%;border-bottom: 1px solid gray;flex-grow: 1;}#sk-container-id-6 div.sk-label:hover label.sk-toggleable__label {background-color: #d4ebff;}#sk-container-id-6 div.sk-serial::before {content: \"\";position: absolute;border-left: 1px solid gray;box-sizing: border-box;top: 0;bottom: 0;left: 50%;z-index: 0;}#sk-container-id-6 div.sk-serial {display: flex;flex-direction: column;align-items: center;background-color: white;padding-right: 0.2em;padding-left: 0.2em;position: relative;}#sk-container-id-6 div.sk-item {position: relative;z-index: 1;}#sk-container-id-6 div.sk-parallel {display: flex;align-items: stretch;justify-content: center;background-color: white;position: relative;}#sk-container-id-6 div.sk-item::before, #sk-container-id-6 div.sk-parallel-item::before {content: \"\";position: absolute;border-left: 1px solid gray;box-sizing: border-box;top: 0;bottom: 0;left: 50%;z-index: -1;}#sk-container-id-6 div.sk-parallel-item {display: flex;flex-direction: column;z-index: 1;position: relative;background-color: white;}#sk-container-id-6 div.sk-parallel-item:first-child::after {align-self: flex-end;width: 50%;}#sk-container-id-6 div.sk-parallel-item:last-child::after {align-self: flex-start;width: 50%;}#sk-container-id-6 div.sk-parallel-item:only-child::after {width: 0;}#sk-container-id-6 div.sk-dashed-wrapped {border: 1px dashed gray;margin: 0 0.4em 0.5em 0.4em;box-sizing: border-box;padding-bottom: 0.4em;background-color: white;}#sk-container-id-6 div.sk-label label {font-family: monospace;font-weight: bold;display: inline-block;line-height: 1.2em;}#sk-container-id-6 div.sk-label-container {text-align: center;}#sk-container-id-6 div.sk-container {/* jupyter's `normalize.less` sets `[hidden] { display: none; }` but bootstrap.min.css set `[hidden] { display: none !important; }` so we also need the `!important` here to be able to override the default hidden behavior on the sphinx rendered scikit-learn.org. See: https://github.com/scikit-learn/scikit-learn/issues/21755 */display: inline-block !important;position: relative;}#sk-container-id-6 div.sk-text-repr-fallback {display: none;}</style><div id=\"sk-container-id-6\" class=\"sk-top-container\"><div class=\"sk-text-repr-fallback\"><pre>PyTorchRegressor(batch_size=256, dropout_rate=0.0, hidden_size=256,\n",
              "                 input_size=4096, learning_rate=0.1, num_epochs=900,\n",
              "                 out_size=1)</pre><b>In a Jupyter environment, please rerun this cell to show the HTML representation or trust the notebook. <br />On GitHub, the HTML representation is unable to render, please try loading this page with nbviewer.org.</b></div><div class=\"sk-container\" hidden><div class=\"sk-item\"><div class=\"sk-estimator sk-toggleable\"><input class=\"sk-toggleable__control sk-hidden--visually\" id=\"sk-estimator-id-6\" type=\"checkbox\" checked><label for=\"sk-estimator-id-6\" class=\"sk-toggleable__label sk-toggleable__label-arrow\">PyTorchRegressor</label><div class=\"sk-toggleable__content\"><pre>PyTorchRegressor(batch_size=256, dropout_rate=0.0, hidden_size=256,\n",
              "                 input_size=4096, learning_rate=0.1, num_epochs=900,\n",
              "                 out_size=1)</pre></div></div></div></div></div>"
            ]
          },
          "metadata": {},
          "execution_count": 50
        }
      ]
    },
    {
      "cell_type": "code",
      "source": [
        "test_df"
      ],
      "metadata": {
        "colab": {
          "base_uri": "https://localhost:8080/",
          "height": 424
        },
        "id": "a6U64fNN7ALn",
        "outputId": "17fb27d9-a6c6-4538-8b3b-73a21614c5df"
      },
      "execution_count": null,
      "outputs": [
        {
          "output_type": "execute_result",
          "data": {
            "text/plain": [
              "                                                   FPs\n",
              "0    [0, 0, 0, 0, 0, 0, 0, 0, 0, 0, 0, 0, 0, 0, 0, ...\n",
              "1    [0, 0, 0, 0, 0, 0, 0, 0, 0, 0, 0, 0, 0, 0, 0, ...\n",
              "2    [0, 0, 0, 0, 0, 0, 0, 0, 0, 0, 0, 0, 0, 0, 0, ...\n",
              "3    [0, 0, 0, 0, 0, 0, 0, 0, 0, 0, 0, 0, 0, 0, 0, ...\n",
              "4    [0, 0, 0, 0, 0, 0, 0, 0, 0, 0, 0, 0, 0, 0, 0, ...\n",
              "..                                                 ...\n",
              "478  [0, 0, 1, 0, 0, 0, 0, 0, 0, 0, 0, 0, 0, 0, 0, ...\n",
              "479  [0, 0, 0, 0, 0, 0, 0, 0, 0, 0, 0, 0, 0, 0, 2, ...\n",
              "480  [0, 0, 0, 0, 0, 0, 1, 0, 0, 0, 0, 0, 0, 0, 0, ...\n",
              "481  [0, 0, 0, 0, 0, 0, 0, 0, 0, 0, 0, 0, 0, 0, 0, ...\n",
              "482  [0, 0, 0, 0, 0, 0, 0, 0, 0, 0, 0, 0, 0, 0, 2, ...\n",
              "\n",
              "[483 rows x 1 columns]"
            ],
            "text/html": [
              "\n",
              "  <div id=\"df-8c540219-078c-4036-a3ac-215f20a74454\" class=\"colab-df-container\">\n",
              "    <div>\n",
              "<style scoped>\n",
              "    .dataframe tbody tr th:only-of-type {\n",
              "        vertical-align: middle;\n",
              "    }\n",
              "\n",
              "    .dataframe tbody tr th {\n",
              "        vertical-align: top;\n",
              "    }\n",
              "\n",
              "    .dataframe thead th {\n",
              "        text-align: right;\n",
              "    }\n",
              "</style>\n",
              "<table border=\"1\" class=\"dataframe\">\n",
              "  <thead>\n",
              "    <tr style=\"text-align: right;\">\n",
              "      <th></th>\n",
              "      <th>FPs</th>\n",
              "    </tr>\n",
              "  </thead>\n",
              "  <tbody>\n",
              "    <tr>\n",
              "      <th>0</th>\n",
              "      <td>[0, 0, 0, 0, 0, 0, 0, 0, 0, 0, 0, 0, 0, 0, 0, ...</td>\n",
              "    </tr>\n",
              "    <tr>\n",
              "      <th>1</th>\n",
              "      <td>[0, 0, 0, 0, 0, 0, 0, 0, 0, 0, 0, 0, 0, 0, 0, ...</td>\n",
              "    </tr>\n",
              "    <tr>\n",
              "      <th>2</th>\n",
              "      <td>[0, 0, 0, 0, 0, 0, 0, 0, 0, 0, 0, 0, 0, 0, 0, ...</td>\n",
              "    </tr>\n",
              "    <tr>\n",
              "      <th>3</th>\n",
              "      <td>[0, 0, 0, 0, 0, 0, 0, 0, 0, 0, 0, 0, 0, 0, 0, ...</td>\n",
              "    </tr>\n",
              "    <tr>\n",
              "      <th>4</th>\n",
              "      <td>[0, 0, 0, 0, 0, 0, 0, 0, 0, 0, 0, 0, 0, 0, 0, ...</td>\n",
              "    </tr>\n",
              "    <tr>\n",
              "      <th>...</th>\n",
              "      <td>...</td>\n",
              "    </tr>\n",
              "    <tr>\n",
              "      <th>478</th>\n",
              "      <td>[0, 0, 1, 0, 0, 0, 0, 0, 0, 0, 0, 0, 0, 0, 0, ...</td>\n",
              "    </tr>\n",
              "    <tr>\n",
              "      <th>479</th>\n",
              "      <td>[0, 0, 0, 0, 0, 0, 0, 0, 0, 0, 0, 0, 0, 0, 2, ...</td>\n",
              "    </tr>\n",
              "    <tr>\n",
              "      <th>480</th>\n",
              "      <td>[0, 0, 0, 0, 0, 0, 1, 0, 0, 0, 0, 0, 0, 0, 0, ...</td>\n",
              "    </tr>\n",
              "    <tr>\n",
              "      <th>481</th>\n",
              "      <td>[0, 0, 0, 0, 0, 0, 0, 0, 0, 0, 0, 0, 0, 0, 0, ...</td>\n",
              "    </tr>\n",
              "    <tr>\n",
              "      <th>482</th>\n",
              "      <td>[0, 0, 0, 0, 0, 0, 0, 0, 0, 0, 0, 0, 0, 0, 2, ...</td>\n",
              "    </tr>\n",
              "  </tbody>\n",
              "</table>\n",
              "<p>483 rows × 1 columns</p>\n",
              "</div>\n",
              "    <div class=\"colab-df-buttons\">\n",
              "\n",
              "  <div class=\"colab-df-container\">\n",
              "    <button class=\"colab-df-convert\" onclick=\"convertToInteractive('df-8c540219-078c-4036-a3ac-215f20a74454')\"\n",
              "            title=\"Convert this dataframe to an interactive table.\"\n",
              "            style=\"display:none;\">\n",
              "\n",
              "  <svg xmlns=\"http://www.w3.org/2000/svg\" height=\"24px\" viewBox=\"0 -960 960 960\">\n",
              "    <path d=\"M120-120v-720h720v720H120Zm60-500h600v-160H180v160Zm220 220h160v-160H400v160Zm0 220h160v-160H400v160ZM180-400h160v-160H180v160Zm440 0h160v-160H620v160ZM180-180h160v-160H180v160Zm440 0h160v-160H620v160Z\"/>\n",
              "  </svg>\n",
              "    </button>\n",
              "\n",
              "  <style>\n",
              "    .colab-df-container {\n",
              "      display:flex;\n",
              "      gap: 12px;\n",
              "    }\n",
              "\n",
              "    .colab-df-convert {\n",
              "      background-color: #E8F0FE;\n",
              "      border: none;\n",
              "      border-radius: 50%;\n",
              "      cursor: pointer;\n",
              "      display: none;\n",
              "      fill: #1967D2;\n",
              "      height: 32px;\n",
              "      padding: 0 0 0 0;\n",
              "      width: 32px;\n",
              "    }\n",
              "\n",
              "    .colab-df-convert:hover {\n",
              "      background-color: #E2EBFA;\n",
              "      box-shadow: 0px 1px 2px rgba(60, 64, 67, 0.3), 0px 1px 3px 1px rgba(60, 64, 67, 0.15);\n",
              "      fill: #174EA6;\n",
              "    }\n",
              "\n",
              "    .colab-df-buttons div {\n",
              "      margin-bottom: 4px;\n",
              "    }\n",
              "\n",
              "    [theme=dark] .colab-df-convert {\n",
              "      background-color: #3B4455;\n",
              "      fill: #D2E3FC;\n",
              "    }\n",
              "\n",
              "    [theme=dark] .colab-df-convert:hover {\n",
              "      background-color: #434B5C;\n",
              "      box-shadow: 0px 1px 3px 1px rgba(0, 0, 0, 0.15);\n",
              "      filter: drop-shadow(0px 1px 2px rgba(0, 0, 0, 0.3));\n",
              "      fill: #FFFFFF;\n",
              "    }\n",
              "  </style>\n",
              "\n",
              "    <script>\n",
              "      const buttonEl =\n",
              "        document.querySelector('#df-8c540219-078c-4036-a3ac-215f20a74454 button.colab-df-convert');\n",
              "      buttonEl.style.display =\n",
              "        google.colab.kernel.accessAllowed ? 'block' : 'none';\n",
              "\n",
              "      async function convertToInteractive(key) {\n",
              "        const element = document.querySelector('#df-8c540219-078c-4036-a3ac-215f20a74454');\n",
              "        const dataTable =\n",
              "          await google.colab.kernel.invokeFunction('convertToInteractive',\n",
              "                                                    [key], {});\n",
              "        if (!dataTable) return;\n",
              "\n",
              "        const docLinkHtml = 'Like what you see? Visit the ' +\n",
              "          '<a target=\"_blank\" href=https://colab.research.google.com/notebooks/data_table.ipynb>data table notebook</a>'\n",
              "          + ' to learn more about interactive tables.';\n",
              "        element.innerHTML = '';\n",
              "        dataTable['output_type'] = 'display_data';\n",
              "        await google.colab.output.renderOutput(dataTable, element);\n",
              "        const docLink = document.createElement('div');\n",
              "        docLink.innerHTML = docLinkHtml;\n",
              "        element.appendChild(docLink);\n",
              "      }\n",
              "    </script>\n",
              "  </div>\n",
              "\n",
              "\n",
              "<div id=\"df-49038d0f-ffba-4476-96b3-6507df84066c\">\n",
              "  <button class=\"colab-df-quickchart\" onclick=\"quickchart('df-49038d0f-ffba-4476-96b3-6507df84066c')\"\n",
              "            title=\"Suggest charts.\"\n",
              "            style=\"display:none;\">\n",
              "\n",
              "<svg xmlns=\"http://www.w3.org/2000/svg\" height=\"24px\"viewBox=\"0 0 24 24\"\n",
              "     width=\"24px\">\n",
              "    <g>\n",
              "        <path d=\"M19 3H5c-1.1 0-2 .9-2 2v14c0 1.1.9 2 2 2h14c1.1 0 2-.9 2-2V5c0-1.1-.9-2-2-2zM9 17H7v-7h2v7zm4 0h-2V7h2v10zm4 0h-2v-4h2v4z\"/>\n",
              "    </g>\n",
              "</svg>\n",
              "  </button>\n",
              "\n",
              "<style>\n",
              "  .colab-df-quickchart {\n",
              "      --bg-color: #E8F0FE;\n",
              "      --fill-color: #1967D2;\n",
              "      --hover-bg-color: #E2EBFA;\n",
              "      --hover-fill-color: #174EA6;\n",
              "      --disabled-fill-color: #AAA;\n",
              "      --disabled-bg-color: #DDD;\n",
              "  }\n",
              "\n",
              "  [theme=dark] .colab-df-quickchart {\n",
              "      --bg-color: #3B4455;\n",
              "      --fill-color: #D2E3FC;\n",
              "      --hover-bg-color: #434B5C;\n",
              "      --hover-fill-color: #FFFFFF;\n",
              "      --disabled-bg-color: #3B4455;\n",
              "      --disabled-fill-color: #666;\n",
              "  }\n",
              "\n",
              "  .colab-df-quickchart {\n",
              "    background-color: var(--bg-color);\n",
              "    border: none;\n",
              "    border-radius: 50%;\n",
              "    cursor: pointer;\n",
              "    display: none;\n",
              "    fill: var(--fill-color);\n",
              "    height: 32px;\n",
              "    padding: 0;\n",
              "    width: 32px;\n",
              "  }\n",
              "\n",
              "  .colab-df-quickchart:hover {\n",
              "    background-color: var(--hover-bg-color);\n",
              "    box-shadow: 0 1px 2px rgba(60, 64, 67, 0.3), 0 1px 3px 1px rgba(60, 64, 67, 0.15);\n",
              "    fill: var(--button-hover-fill-color);\n",
              "  }\n",
              "\n",
              "  .colab-df-quickchart-complete:disabled,\n",
              "  .colab-df-quickchart-complete:disabled:hover {\n",
              "    background-color: var(--disabled-bg-color);\n",
              "    fill: var(--disabled-fill-color);\n",
              "    box-shadow: none;\n",
              "  }\n",
              "\n",
              "  .colab-df-spinner {\n",
              "    border: 2px solid var(--fill-color);\n",
              "    border-color: transparent;\n",
              "    border-bottom-color: var(--fill-color);\n",
              "    animation:\n",
              "      spin 1s steps(1) infinite;\n",
              "  }\n",
              "\n",
              "  @keyframes spin {\n",
              "    0% {\n",
              "      border-color: transparent;\n",
              "      border-bottom-color: var(--fill-color);\n",
              "      border-left-color: var(--fill-color);\n",
              "    }\n",
              "    20% {\n",
              "      border-color: transparent;\n",
              "      border-left-color: var(--fill-color);\n",
              "      border-top-color: var(--fill-color);\n",
              "    }\n",
              "    30% {\n",
              "      border-color: transparent;\n",
              "      border-left-color: var(--fill-color);\n",
              "      border-top-color: var(--fill-color);\n",
              "      border-right-color: var(--fill-color);\n",
              "    }\n",
              "    40% {\n",
              "      border-color: transparent;\n",
              "      border-right-color: var(--fill-color);\n",
              "      border-top-color: var(--fill-color);\n",
              "    }\n",
              "    60% {\n",
              "      border-color: transparent;\n",
              "      border-right-color: var(--fill-color);\n",
              "    }\n",
              "    80% {\n",
              "      border-color: transparent;\n",
              "      border-right-color: var(--fill-color);\n",
              "      border-bottom-color: var(--fill-color);\n",
              "    }\n",
              "    90% {\n",
              "      border-color: transparent;\n",
              "      border-bottom-color: var(--fill-color);\n",
              "    }\n",
              "  }\n",
              "</style>\n",
              "\n",
              "  <script>\n",
              "    async function quickchart(key) {\n",
              "      const quickchartButtonEl =\n",
              "        document.querySelector('#' + key + ' button');\n",
              "      quickchartButtonEl.disabled = true;  // To prevent multiple clicks.\n",
              "      quickchartButtonEl.classList.add('colab-df-spinner');\n",
              "      try {\n",
              "        const charts = await google.colab.kernel.invokeFunction(\n",
              "            'suggestCharts', [key], {});\n",
              "      } catch (error) {\n",
              "        console.error('Error during call to suggestCharts:', error);\n",
              "      }\n",
              "      quickchartButtonEl.classList.remove('colab-df-spinner');\n",
              "      quickchartButtonEl.classList.add('colab-df-quickchart-complete');\n",
              "    }\n",
              "    (() => {\n",
              "      let quickchartButtonEl =\n",
              "        document.querySelector('#df-49038d0f-ffba-4476-96b3-6507df84066c button');\n",
              "      quickchartButtonEl.style.display =\n",
              "        google.colab.kernel.accessAllowed ? 'block' : 'none';\n",
              "    })();\n",
              "  </script>\n",
              "</div>\n",
              "    </div>\n",
              "  </div>\n"
            ]
          },
          "metadata": {},
          "execution_count": 24
        }
      ]
    },
    {
      "cell_type": "code",
      "source": [
        "X_test_tensor = torch.tensor(test_df['FPs'], dtype=torch.float32)"
      ],
      "metadata": {
        "id": "VQBvRdvh68E7"
      },
      "execution_count": null,
      "outputs": []
    },
    {
      "cell_type": "code",
      "source": [
        "final_model_MLM"
      ],
      "metadata": {
        "colab": {
          "base_uri": "https://localhost:8080/",
          "height": 109
        },
        "id": "Gw94KH7CnwVW",
        "outputId": "3e0f7152-0147-4e33-a67f-fc9653e9f1c1"
      },
      "execution_count": null,
      "outputs": [
        {
          "output_type": "execute_result",
          "data": {
            "text/plain": [
              "PyTorchRegressor(batch_size=256, dropout_rate=0.0, hidden_size=256,\n",
              "                 input_size=4096, learning_rate=0.1, num_epochs=900,\n",
              "                 out_size=1)"
            ],
            "text/html": [
              "<style>#sk-container-id-3 {color: black;background-color: white;}#sk-container-id-3 pre{padding: 0;}#sk-container-id-3 div.sk-toggleable {background-color: white;}#sk-container-id-3 label.sk-toggleable__label {cursor: pointer;display: block;width: 100%;margin-bottom: 0;padding: 0.3em;box-sizing: border-box;text-align: center;}#sk-container-id-3 label.sk-toggleable__label-arrow:before {content: \"▸\";float: left;margin-right: 0.25em;color: #696969;}#sk-container-id-3 label.sk-toggleable__label-arrow:hover:before {color: black;}#sk-container-id-3 div.sk-estimator:hover label.sk-toggleable__label-arrow:before {color: black;}#sk-container-id-3 div.sk-toggleable__content {max-height: 0;max-width: 0;overflow: hidden;text-align: left;background-color: #f0f8ff;}#sk-container-id-3 div.sk-toggleable__content pre {margin: 0.2em;color: black;border-radius: 0.25em;background-color: #f0f8ff;}#sk-container-id-3 input.sk-toggleable__control:checked~div.sk-toggleable__content {max-height: 200px;max-width: 100%;overflow: auto;}#sk-container-id-3 input.sk-toggleable__control:checked~label.sk-toggleable__label-arrow:before {content: \"▾\";}#sk-container-id-3 div.sk-estimator input.sk-toggleable__control:checked~label.sk-toggleable__label {background-color: #d4ebff;}#sk-container-id-3 div.sk-label input.sk-toggleable__control:checked~label.sk-toggleable__label {background-color: #d4ebff;}#sk-container-id-3 input.sk-hidden--visually {border: 0;clip: rect(1px 1px 1px 1px);clip: rect(1px, 1px, 1px, 1px);height: 1px;margin: -1px;overflow: hidden;padding: 0;position: absolute;width: 1px;}#sk-container-id-3 div.sk-estimator {font-family: monospace;background-color: #f0f8ff;border: 1px dotted black;border-radius: 0.25em;box-sizing: border-box;margin-bottom: 0.5em;}#sk-container-id-3 div.sk-estimator:hover {background-color: #d4ebff;}#sk-container-id-3 div.sk-parallel-item::after {content: \"\";width: 100%;border-bottom: 1px solid gray;flex-grow: 1;}#sk-container-id-3 div.sk-label:hover label.sk-toggleable__label {background-color: #d4ebff;}#sk-container-id-3 div.sk-serial::before {content: \"\";position: absolute;border-left: 1px solid gray;box-sizing: border-box;top: 0;bottom: 0;left: 50%;z-index: 0;}#sk-container-id-3 div.sk-serial {display: flex;flex-direction: column;align-items: center;background-color: white;padding-right: 0.2em;padding-left: 0.2em;position: relative;}#sk-container-id-3 div.sk-item {position: relative;z-index: 1;}#sk-container-id-3 div.sk-parallel {display: flex;align-items: stretch;justify-content: center;background-color: white;position: relative;}#sk-container-id-3 div.sk-item::before, #sk-container-id-3 div.sk-parallel-item::before {content: \"\";position: absolute;border-left: 1px solid gray;box-sizing: border-box;top: 0;bottom: 0;left: 50%;z-index: -1;}#sk-container-id-3 div.sk-parallel-item {display: flex;flex-direction: column;z-index: 1;position: relative;background-color: white;}#sk-container-id-3 div.sk-parallel-item:first-child::after {align-self: flex-end;width: 50%;}#sk-container-id-3 div.sk-parallel-item:last-child::after {align-self: flex-start;width: 50%;}#sk-container-id-3 div.sk-parallel-item:only-child::after {width: 0;}#sk-container-id-3 div.sk-dashed-wrapped {border: 1px dashed gray;margin: 0 0.4em 0.5em 0.4em;box-sizing: border-box;padding-bottom: 0.4em;background-color: white;}#sk-container-id-3 div.sk-label label {font-family: monospace;font-weight: bold;display: inline-block;line-height: 1.2em;}#sk-container-id-3 div.sk-label-container {text-align: center;}#sk-container-id-3 div.sk-container {/* jupyter's `normalize.less` sets `[hidden] { display: none; }` but bootstrap.min.css set `[hidden] { display: none !important; }` so we also need the `!important` here to be able to override the default hidden behavior on the sphinx rendered scikit-learn.org. See: https://github.com/scikit-learn/scikit-learn/issues/21755 */display: inline-block !important;position: relative;}#sk-container-id-3 div.sk-text-repr-fallback {display: none;}</style><div id=\"sk-container-id-3\" class=\"sk-top-container\"><div class=\"sk-text-repr-fallback\"><pre>PyTorchRegressor(batch_size=256, dropout_rate=0.0, hidden_size=256,\n",
              "                 input_size=4096, learning_rate=0.1, num_epochs=900,\n",
              "                 out_size=1)</pre><b>In a Jupyter environment, please rerun this cell to show the HTML representation or trust the notebook. <br />On GitHub, the HTML representation is unable to render, please try loading this page with nbviewer.org.</b></div><div class=\"sk-container\" hidden><div class=\"sk-item\"><div class=\"sk-estimator sk-toggleable\"><input class=\"sk-toggleable__control sk-hidden--visually\" id=\"sk-estimator-id-3\" type=\"checkbox\" checked><label for=\"sk-estimator-id-3\" class=\"sk-toggleable__label sk-toggleable__label-arrow\">PyTorchRegressor</label><div class=\"sk-toggleable__content\"><pre>PyTorchRegressor(batch_size=256, dropout_rate=0.0, hidden_size=256,\n",
              "                 input_size=4096, learning_rate=0.1, num_epochs=900,\n",
              "                 out_size=1)</pre></div></div></div></div></div>"
            ]
          },
          "metadata": {},
          "execution_count": 37
        }
      ]
    },
    {
      "cell_type": "code",
      "execution_count": null,
      "metadata": {
        "id": "wJL_dh8TLAXH"
      },
      "outputs": [],
      "source": [
        "# Evaluate the final model on the test set\n",
        "test_predictions_MLM = final_model_MLM.predict(X_test_tensor)"
      ]
    },
    {
      "cell_type": "code",
      "source": [
        "# Evaluate the final model on the test set\n",
        "test_predictions_HLM = final_model_HLM.predict(X_test_tensor)"
      ],
      "metadata": {
        "id": "ONE3OJ5Mtdi2"
      },
      "execution_count": null,
      "outputs": []
    },
    {
      "cell_type": "code",
      "source": [
        "pwd"
      ],
      "metadata": {
        "colab": {
          "base_uri": "https://localhost:8080/",
          "height": 35
        },
        "id": "zS96wlSwDzpb",
        "outputId": "1a3b7ac1-d044-4792-cf5b-7b3e6a2dcbc5"
      },
      "execution_count": null,
      "outputs": [
        {
          "output_type": "execute_result",
          "data": {
            "text/plain": [
              "'/content/drive/MyDrive/bioAI'"
            ],
            "application/vnd.google.colaboratory.intrinsic+json": {
              "type": "string"
            }
          },
          "metadata": {},
          "execution_count": 41
        }
      ]
    },
    {
      "cell_type": "code",
      "execution_count": null,
      "metadata": {
        "id": "6gjdTsi5LAXH"
      },
      "outputs": [],
      "source": [
        "submission = pd.read_csv('./data/submission/sample_submission.csv')"
      ]
    },
    {
      "cell_type": "code",
      "source": [
        "submission['MLM'] = test_predictions_MLM"
      ],
      "metadata": {
        "id": "xA2i2GZBBcGw"
      },
      "execution_count": null,
      "outputs": []
    },
    {
      "cell_type": "code",
      "source": [
        "submission['HLM'] = test_predictions_HLM\n"
      ],
      "metadata": {
        "id": "mZamMID4D-mE"
      },
      "execution_count": null,
      "outputs": []
    },
    {
      "cell_type": "code",
      "source": [
        "submission.to_csv('baseline_submission_0914_2.csv', index=False)"
      ],
      "metadata": {
        "id": "OrO-4lIFF2id"
      },
      "execution_count": null,
      "outputs": []
    },
    {
      "cell_type": "code",
      "source": [],
      "metadata": {
        "id": "y10HzR9CF74Y"
      },
      "execution_count": null,
      "outputs": []
    }
  ],
  "metadata": {
    "kernelspec": {
      "display_name": "Python 3",
      "name": "python3"
    },
    "language_info": {
      "codemirror_mode": {
        "name": "ipython",
        "version": 3
      },
      "file_extension": ".py",
      "mimetype": "text/x-python",
      "name": "python",
      "nbconvert_exporter": "python",
      "pygments_lexer": "ipython3",
      "version": "3.9.13"
    },
    "orig_nbformat": 4,
    "colab": {
      "provenance": []
    }
  },
  "nbformat": 4,
  "nbformat_minor": 0
}