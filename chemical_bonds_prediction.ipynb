{
 "cells": [
  {
   "cell_type": "markdown",
   "id": "a9d3157d",
   "metadata": {},
   "source": [
    "# Chemical Bonds Prediction"
   ]
  },
  {
   "cell_type": "markdown",
   "id": "c6dbcc05",
   "metadata": {},
   "source": [
    "## Import necessary libraries"
   ]
  },
  {
   "cell_type": "code",
   "execution_count": 1,
   "id": "7ae4bba2",
   "metadata": {},
   "outputs": [],
   "source": [
    "import pandas as pd\n",
    "import numpy as np\n",
    "from sklearn.metrics import mean_squared_error\n",
    "import lightgbm as lgb\n",
    "import xgboost as xgb\n",
    "from catboost import CatBoostRegressor"
   ]
  },
  {
   "cell_type": "markdown",
   "id": "881b8663",
   "metadata": {},
   "source": [
    "## Load train and test data"
   ]
  },
  {
   "cell_type": "code",
   "execution_count": 2,
   "id": "827d6f82",
   "metadata": {},
   "outputs": [],
   "source": [
    "train_data = pd.read_csv('train.csv')\n",
    "test_data = pd.read_csv('test.csv')"
   ]
  },
  {
   "cell_type": "markdown",
   "id": "c1d27d01",
   "metadata": {},
   "source": [
    "## Data Preprocessing"
   ]
  },
  {
   "cell_type": "code",
   "execution_count": 3,
   "id": "44925fbd",
   "metadata": {},
   "outputs": [],
   "source": [
    "median_value = train_data['AlogP'].median()\n",
    "train_data['AlogP'].fillna(median_value, inplace=True)\n",
    "test_data['AlogP'].fillna(median_value, inplace=True)"
   ]
  },
  {
   "cell_type": "markdown",
   "id": "826e03ac",
   "metadata": {},
   "source": [
    "## Splitting features and targets"
   ]
  },
  {
   "cell_type": "code",
   "execution_count": 4,
   "id": "07f87ad7",
   "metadata": {},
   "outputs": [],
   "source": [
    "X = train_data.drop(columns=['id', 'SMILES', 'MLM', 'HLM'])\n",
    "y_mlm = train_data['MLM']\n",
    "y_hlm = train_data['HLM']\n",
    "X_test = test_data.drop(columns=['id', 'SMILES'])"
   ]
  },
  {
   "cell_type": "markdown",
   "id": "c61933a7",
   "metadata": {},
   "source": [
    "## Model Training and Predictions"
   ]
  },
  {
   "cell_type": "code",
   "execution_count": 5,
   "id": "990d104f",
   "metadata": {},
   "outputs": [],
   "source": [
    "\n",
    "# LightGBM\n",
    "lgb_mlm = lgb.LGBMRegressor(random_state=42)\n",
    "lgb_mlm.fit(X, y_mlm)\n",
    "lgb_pred_mlm = lgb_mlm.predict(X_test)\n",
    "\n",
    "lgb_hlm = lgb.LGBMRegressor(random_state=42)\n",
    "lgb_hlm.fit(X, y_hlm)\n",
    "lgb_pred_hlm = lgb_hlm.predict(X_test)\n",
    "\n",
    "# XGBoost\n",
    "xgb_mlm = xgb.XGBRegressor(random_state=42)\n",
    "xgb_mlm.fit(X, y_mlm)\n",
    "xgb_pred_mlm = xgb_mlm.predict(X_test)\n",
    "\n",
    "xgb_hlm = xgb.XGBRegressor(random_state=42)\n",
    "xgb_hlm.fit(X, y_hlm)\n",
    "xgb_pred_hlm = xgb_hlm.predict(X_test)\n",
    "\n",
    "# CatBoost\n",
    "cat_mlm = CatBoostRegressor(random_state=42, verbose=0)\n",
    "cat_mlm.fit(X, y_mlm)\n",
    "cat_pred_mlm = cat_mlm.predict(X_test)\n",
    "\n",
    "cat_hlm = CatBoostRegressor(random_state=42, verbose=0)\n",
    "cat_hlm.fit(X, y_hlm)\n",
    "cat_pred_hlm = cat_hlm.predict(X_test)\n"
   ]
  },
  {
   "cell_type": "markdown",
   "id": "46e0e652",
   "metadata": {},
   "source": [
    "## Combine Predictions and Save to CSV"
   ]
  },
  {
   "cell_type": "code",
   "execution_count": 6,
   "id": "8ba01c87",
   "metadata": {},
   "outputs": [],
   "source": [
    "\n",
    "# Averaging predictions from the three models\n",
    "final_pred_mlm = (lgb_pred_mlm + xgb_pred_mlm + cat_pred_mlm) / 3\n",
    "final_pred_hlm = (lgb_pred_hlm + xgb_pred_hlm + cat_pred_hlm) / 3\n",
    "\n",
    "# Create final submission DataFrame\n",
    "submission = pd.DataFrame({\n",
    "    'id': test_data['id'],\n",
    "    'MLM': final_pred_mlm,\n",
    "    'HLM': final_pred_hlm\n",
    "})\n",
    "\n",
    "# Save submission to CSV\n",
    "submission.to_csv('submission.csv', index=False)\n"
   ]
  }
 ],
 "metadata": {
  "kernelspec": {
   "display_name": "base",
   "language": "python",
   "name": "python3"
  },
  "language_info": {
   "codemirror_mode": {
    "name": "ipython",
    "version": 3
   },
   "file_extension": ".py",
   "mimetype": "text/x-python",
   "name": "python",
   "nbconvert_exporter": "python",
   "pygments_lexer": "ipython3",
   "version": "3.11.4"
  }
 },
 "nbformat": 4,
 "nbformat_minor": 5
}
